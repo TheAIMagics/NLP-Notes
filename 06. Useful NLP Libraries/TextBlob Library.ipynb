{
 "cells": [
  {
   "cell_type": "markdown",
   "id": "65d5a79c",
   "metadata": {},
   "source": [
    "TextBlob is a Python library for processing textual data. It provides a simple API for common natural language processing (NLP) tasks such as sentiment analysis, part-of-speech tagging, noun phrase extraction, and more.\n",
    "\n",
    "TextBlob is built on top of the Natural Language Toolkit (NLTK) library and provides an easy-to-use interface for many of its features. To use TextBlob, you first need to install it."
   ]
  },
  {
   "cell_type": "markdown",
   "id": "30988ab8",
   "metadata": {},
   "source": [
    "#### Correct Spellings with TextBlob"
   ]
  },
  {
   "cell_type": "code",
   "execution_count": 5,
   "id": "435ac794",
   "metadata": {},
   "outputs": [
    {
     "name": "stdout",
     "output_type": "stream",
     "text": [
      "Wrong words : ['Naturl', 'Langage', 'processng']\n",
      "Corrected Words are :\n",
      "Nature Language processing "
     ]
    }
   ],
   "source": [
    "from textblob import TextBlob\n",
    "words = [\"Naturl\", \"Langage\",\"processng\"]\n",
    "corrected_words = []\n",
    "for i in words:\n",
    "    corrected_words.append(TextBlob(i))\n",
    "print(\"Wrong words :\", words)\n",
    "print(\"Corrected Words are :\")\n",
    "for i in corrected_words:\n",
    "    print(i.correct(), end=\" \")"
   ]
  },
  {
   "cell_type": "code",
   "execution_count": null,
   "id": "24d90b0b",
   "metadata": {},
   "outputs": [],
   "source": []
  }
 ],
 "metadata": {
  "kernelspec": {
   "display_name": "torchtext",
   "language": "python",
   "name": "torchtext"
  },
  "language_info": {
   "codemirror_mode": {
    "name": "ipython",
    "version": 3
   },
   "file_extension": ".py",
   "mimetype": "text/x-python",
   "name": "python",
   "nbconvert_exporter": "python",
   "pygments_lexer": "ipython3",
   "version": "3.8.0"
  }
 },
 "nbformat": 4,
 "nbformat_minor": 5
}
